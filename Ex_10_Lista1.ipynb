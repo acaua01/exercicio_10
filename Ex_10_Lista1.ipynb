{
 "cells": [
  {
   "cell_type": "markdown",
   "id": "d96b167c",
   "metadata": {},
   "source": [
    "# 10. solicite o valor de um capital, o prazo de investimento, a taxa de juros, calcule e imprima na tela o valor capitalizado\n",
    "\n",
    "J = Pv x i x n"
   ]
  },
  {
   "cell_type": "code",
   "execution_count": 5,
   "id": "5616178c",
   "metadata": {},
   "outputs": [],
   "source": [
    "# Atribuição de variáveis"
   ]
  },
  {
   "cell_type": "code",
   "execution_count": 7,
   "id": "6d90bf1b",
   "metadata": {},
   "outputs": [
    {
     "name": "stdout",
     "output_type": "stream",
     "text": [
      "Qual o valor do capital? 40000\n",
      "Qual o prazo de investimento? 7\n",
      "Qual a taxa de juros? 0.1375\n"
     ]
    }
   ],
   "source": [
    "# Entrada de dados\n",
    "\n",
    "p = float(input(\"Qual o valor do capital? \"))\n",
    "i = float(input(\"Qual o prazo de investimento? \"))\n",
    "n = float(input(\"Qual a taxa de juros? \"))"
   ]
  },
  {
   "cell_type": "code",
   "execution_count": 8,
   "id": "1549454d",
   "metadata": {},
   "outputs": [],
   "source": [
    "# Processamento de dados\n",
    "\n",
    "j = p * i * n \n"
   ]
  },
  {
   "cell_type": "code",
   "execution_count": 10,
   "id": "a7842474",
   "metadata": {},
   "outputs": [
    {
     "name": "stdout",
     "output_type": "stream",
     "text": [
      "O valor que será ganho com o investimento será de 38500.0\n"
     ]
    }
   ],
   "source": [
    "# Saída de dados\n",
    "\n",
    "print(\"O valor que será ganho com o investimento será de\", j)"
   ]
  },
  {
   "cell_type": "code",
   "execution_count": null,
   "id": "10819d29",
   "metadata": {},
   "outputs": [],
   "source": []
  }
 ],
 "metadata": {
  "kernelspec": {
   "display_name": "Python 3 (ipykernel)",
   "language": "python",
   "name": "python3"
  },
  "language_info": {
   "codemirror_mode": {
    "name": "ipython",
    "version": 3
   },
   "file_extension": ".py",
   "mimetype": "text/x-python",
   "name": "python",
   "nbconvert_exporter": "python",
   "pygments_lexer": "ipython3",
   "version": "3.10.9"
  }
 },
 "nbformat": 4,
 "nbformat_minor": 5
}
